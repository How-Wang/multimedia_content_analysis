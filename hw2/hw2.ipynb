{
 "cells": [
  {
   "attachments": {},
   "cell_type": "markdown",
   "metadata": {},
   "source": [
    "# Scene Detection in Movies and TV shows\n",
    "implementation of the paper [Rasheed, et al. “Scene detection in Hollywood movies and tv shows” Proc. of IEEE Computer Society Conference on Computer Vision and Pattern Recognition, vol. 2, pp. 343-348, 2003](https://www.crcv.ucf.edu/papers/Scene-segCVPR2003.pdf)"
   ]
  },
  {
   "attachments": {},
   "cell_type": "markdown",
   "metadata": {},
   "source": [
    "## Read input data and Color shot detection"
   ]
  },
  {
   "cell_type": "code",
   "execution_count": 2,
   "metadata": {},
   "outputs": [],
   "source": [
    "# import required module\n",
    "from pathlib import Path\n",
    "import cv2\n",
    "import numpy as np\n",
    "FILE = 'climate_out'  # 'ftfm_out''news_out'\n",
    "GROUND_FILE = 'climate_ground.txt'"
   ]
  },
  {
   "cell_type": "code",
   "execution_count": 3,
   "metadata": {},
   "outputs": [],
   "source": [
    "threshold = 0.9\n",
    "min_shot_duration = 10 # in frames"
   ]
  },
  {
   "cell_type": "code",
   "execution_count": 4,
   "metadata": {},
   "outputs": [
    {
     "name": "stdout",
     "output_type": "stream",
     "text": [
      "1780\n"
     ]
    }
   ],
   "source": [
    "# iterate over files in that directory\n",
    "files = [str(p) for p in Path(FILE).glob('*')]\n",
    "files.sort(key=lambda f: int(''.join(filter(str.isdigit, f))))\n",
    "hist_list = []\n",
    "for frame_path in files:\n",
    "    frame = cv2.imread(frame_path)\n",
    "    # Compute color histogram\n",
    "    frame = cv2.cvtColor(frame, cv2.COLOR_BGR2HSV)\n",
    "    hist = cv2.calcHist([frame], [0, 1, 2], None, [8, 4, 4], [0, 180, 0, 256, 0, 256])\n",
    "    hist = cv2.normalize(hist, hist, alpha=0, beta=1, norm_type=cv2.NORM_MINMAX).flatten()\n",
    "    hist_list.append(hist)\n",
    "    \n",
    "print(len(hist_list))"
   ]
  },
  {
   "cell_type": "code",
   "execution_count": 5,
   "metadata": {},
   "outputs": [],
   "source": [
    "# # test filter and sort function\n",
    "# files_test = [str(p) for p in Path(directory).glob('*')]\n",
    "# files_test.sort(key=lambda f: int(''.join(filter(str.isdigit, f))))\n",
    "\n",
    "# howard = list(filter(str.isdigit, \"002sfi4\"))\n",
    "# print(howard)"
   ]
  },
  {
   "cell_type": "code",
   "execution_count": 6,
   "metadata": {},
   "outputs": [],
   "source": [
    "# ## Read video\n",
    "# cap = cv2.VideoCapture('climate.mp4')\n",
    "# hist_list = []\n",
    "# ## make histogram of every frame\n",
    "# while(cap.isOpened()):\n",
    "#     ret, frame = cap.read()\n",
    "#     if ret == True:\n",
    "#         # Compute color histogram\n",
    "#         frame = cv2.cvtColor(frame, cv2.COLOR_BGR2HSV)\n",
    "#         hist = cv2.calcHist([frame], [0, 1, 2], None, [8, 4, 4], [0, 180, 0, 256, 0, 256])\n",
    "#         # print(\"new\\nhist:{}\\n\".format(hist.shape))\n",
    "#         hist = cv2.normalize(hist, hist, alpha=0, beta=1, norm_type=cv2.NORM_MINMAX).flatten()\n",
    "#         # print(hist)\n",
    "#         # print(\"end\")\n",
    "#         hist_list.append(hist)\n",
    "#     else:\n",
    "#         break\n",
    "    \n",
    "# print(len(hist_list))"
   ]
  },
  {
   "cell_type": "code",
   "execution_count": 7,
   "metadata": {},
   "outputs": [
    {
     "name": "stdout",
     "output_type": "stream",
     "text": [
      "[93, 157, 232, 314, 355, 460, 691, 697, 886, 900, 919, 1021, 1237, 1401, 1555]\n"
     ]
    }
   ],
   "source": [
    "shot_boundaries = []\n",
    "for i in range(1, len(hist_list)):\n",
    "    # Compute histogram difference\n",
    "    diff = cv2.compareHist(hist_list[i-1], hist_list[i], cv2.HISTCMP_CORREL)\n",
    "    if diff < threshold:\n",
    "        shot_boundaries.append(i+1)\n",
    "print(shot_boundaries)"
   ]
  },
  {
   "cell_type": "code",
   "execution_count": 8,
   "metadata": {},
   "outputs": [
    {
     "name": "stdout",
     "output_type": "stream",
     "text": [
      "[93, 157, 232, 314, 355, 460, 691, 697, 886, 900, 919, 1021, 1237, 1401, 1555]\n"
     ]
    }
   ],
   "source": [
    "shot_lengths = np.diff(shot_boundaries)\n",
    "short_shots = np.where(shot_lengths < min_shot_duration)[0]\n",
    "\n",
    "print(shot_boundaries)"
   ]
  },
  {
   "cell_type": "code",
   "execution_count": 9,
   "metadata": {},
   "outputs": [
    {
     "name": "stdout",
     "output_type": "stream",
     "text": [
      "[93, 157, 232, 314, 355, 460, 691, 886, 900, 919, 1021, 1237, 1401, 1555]\n"
     ]
    }
   ],
   "source": [
    "\n",
    "for i in reversed(short_shots):\n",
    "    if i == len(shot_boundaries)-1:\n",
    "        shot_boundaries = shot_boundaries[:i+1]\n",
    "    else:\n",
    "        shot_boundaries = shot_boundaries[:i+1] + shot_boundaries[i+2:]\n",
    "print(shot_boundaries)"
   ]
  },
  {
   "attachments": {},
   "cell_type": "markdown",
   "metadata": {},
   "source": [
    "## Read ground truth file"
   ]
  },
  {
   "cell_type": "code",
   "execution_count": 10,
   "metadata": {},
   "outputs": [],
   "source": [
    "ground_file = open(GROUND_FILE, \"r\")\n",
    "ground_data = ground_file.read()\n",
    "ground_list = ground_data.split(\"\\n\")\n",
    "ground_file.close()\n"
   ]
  },
  {
   "cell_type": "code",
   "execution_count": 11,
   "metadata": {},
   "outputs": [],
   "source": [
    "ground_list = ground_list[4:]"
   ]
  },
  {
   "cell_type": "code",
   "execution_count": 12,
   "metadata": {},
   "outputs": [
    {
     "name": "stdout",
     "output_type": "stream",
     "text": [
      "455~478\n",
      "542~578\n",
      "608~644\n",
      "675~697\n",
      "774~799\n",
      "886~887\n"
     ]
    }
   ],
   "source": [
    "for i in range(len(ground_list)):\n",
    "    if '~' in ground_list[i]:\n",
    "        print(ground_list[i])\n",
    "        first, second = ground_list[i].split(\"~\")\n",
    "        ground_list[i] = (first, second)"
   ]
  },
  {
   "cell_type": "code",
   "execution_count": 13,
   "metadata": {},
   "outputs": [
    {
     "data": {
      "text/plain": [
       "['93',\n",
       " '157',\n",
       " '232',\n",
       " '314',\n",
       " '355',\n",
       " ('455', '478'),\n",
       " ('542', '578'),\n",
       " ('608', '644'),\n",
       " ('675', '697'),\n",
       " ('774', '799'),\n",
       " ('886', '887'),\n",
       " '1021',\n",
       " '1237',\n",
       " '1401',\n",
       " '1555']"
      ]
     },
     "execution_count": 13,
     "metadata": {},
     "output_type": "execute_result"
    }
   ],
   "source": [
    "print(ground_list)"
   ]
  },
  {
   "cell_type": "code",
   "execution_count": 14,
   "metadata": {},
   "outputs": [],
   "source": [
    "true_positive = 0\n",
    "false_positive = 0\n",
    "false_negative = 0\n",
    "true_negative = 0\n",
    "\n",
    "for shot in shot_boundaries:\n",
    "    hit = 0\n",
    "    for number in ground_list:\n",
    "        if type(number) is tuple:\n",
    "            (first ,second ) = number\n",
    "            if int(first) <= shot <= int(second):\n",
    "                true_positive += 1\n",
    "                hit = 1\n",
    "                break\n",
    "        else:\n",
    "            if shot == int(number):\n",
    "                true_positive += 1\n",
    "                hit = 1\n",
    "                break\n",
    "            \n",
    "    if hit == 0:\n",
    "        false_positive += 1"
   ]
  },
  {
   "cell_type": "code",
   "execution_count": 15,
   "metadata": {},
   "outputs": [
    {
     "name": "stdout",
     "output_type": "stream",
     "text": [
      "12 2\n"
     ]
    }
   ],
   "source": [
    "print(true_positive, false_positive)"
   ]
  },
  {
   "cell_type": "code",
   "execution_count": 16,
   "metadata": {},
   "outputs": [],
   "source": [
    "for number in ground_list:\n",
    "    hit = 0\n",
    "    for shot in shot_boundaries:\n",
    "        if type(number) is tuple:\n",
    "            (first ,second) = number\n",
    "            if int(first) <= shot <= int(second):\n",
    "                hit = 1\n",
    "                break\n",
    "        else:\n",
    "            if shot == int(number):\n",
    "                hit = 1\n",
    "                break\n",
    "    if hit == 0:\n",
    "        false_negative += 1"
   ]
  },
  {
   "cell_type": "code",
   "execution_count": 18,
   "metadata": {},
   "outputs": [],
   "source": [
    "true_negative = len(files) - len(shot_boundaries) - false_negative"
   ]
  },
  {
   "cell_type": "code",
   "execution_count": 17,
   "metadata": {},
   "outputs": [
    {
     "data": {
      "text/plain": [
       "3"
      ]
     },
     "execution_count": 17,
     "metadata": {},
     "output_type": "execute_result"
    }
   ],
   "source": [
    "print(false_negative, true_negative)"
   ]
  },
  {
   "cell_type": "code",
   "execution_count": 22,
   "metadata": {},
   "outputs": [
    {
     "name": "stdout",
     "output_type": "stream",
     "text": [
      "0.8571428571428571 0.8\n"
     ]
    }
   ],
   "source": [
    "precision = true_positive/(true_positive + false_positive)\n",
    "recall = true_positive/(true_positive + false_negative)\n",
    "print(precision, recall)"
   ]
  },
  {
   "cell_type": "code",
   "execution_count": null,
   "metadata": {},
   "outputs": [],
   "source": []
  }
 ],
 "metadata": {
  "kernelspec": {
   "display_name": "picture",
   "language": "python",
   "name": "python3"
  },
  "language_info": {
   "codemirror_mode": {
    "name": "ipython",
    "version": 3
   },
   "file_extension": ".py",
   "mimetype": "text/x-python",
   "name": "python",
   "nbconvert_exporter": "python",
   "pygments_lexer": "ipython3",
   "version": "3.11.0"
  },
  "orig_nbformat": 4
 },
 "nbformat": 4,
 "nbformat_minor": 2
}
