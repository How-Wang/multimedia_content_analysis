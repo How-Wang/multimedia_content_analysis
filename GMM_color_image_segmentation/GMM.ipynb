{
 "cells": [
  {
   "attachments": {},
   "cell_type": "markdown",
   "metadata": {},
   "source": [
    "# GMM-based Color Image Segmentation\n",
    "利用 Gaussian Mixture Model 完成 color image segmentation"
   ]
  },
  {
   "attachments": {},
   "cell_type": "markdown",
   "metadata": {},
   "source": [
    "## Scenario 1\n",
    "以 Soccer1.jpg 中的場地 pixel 建構 GMM，稱此模型為 M1，並以 soccer1.jpg 做測試"
   ]
  },
  {
   "cell_type": "code",
   "execution_count": 16,
   "metadata": {},
   "outputs": [],
   "source": [
    "import cv2\n",
    "import numpy as np\n",
    "from sklearn.mixture import GaussianMixture\n",
    "import csv\n",
    "import pathlib"
   ]
  },
  {
   "cell_type": "code",
   "execution_count": 17,
   "metadata": {},
   "outputs": [],
   "source": [
    "def write_file(dir_name, file ,file_name):\n",
    "    p = pathlib.Path(dir_name)\n",
    "    p.mkdir(parents=True, exist_ok=True)\n",
    "    filepath = dir_name + '/' + file_name\n",
    "    cv2.imwrite(filepath, file)"
   ]
  },
  {
   "cell_type": "code",
   "execution_count": 18,
   "metadata": {},
   "outputs": [],
   "source": [
    "def segment_filter(dir_name, level, thres, probs, rows, cols):\n",
    "    segmented_img = probs[:, level] < thres\n",
    "    segmented_img = segmented_img.reshape(rows, cols).astype(np.uint8)\n",
    "    segmented_255_img = segmented_img * 255\n",
    "\n",
    "    file_name = str(level) + '_' + str(thres)+ '.jpg'\n",
    "    write_file(dir_name, segmented_255_img, file_name)\n",
    "    return segmented_img"
   ]
  },
  {
   "cell_type": "code",
   "execution_count": 19,
   "metadata": {},
   "outputs": [],
   "source": [
    "def evaluation(segmented_img, gr_list):\n",
    "    cmp_seg_list = list(segmented_img.flatten())\n",
    "    same_num = 0\n",
    "    for i in range(len(gr_list)):\n",
    "            if gr_list[i] == cmp_seg_list[i]:\n",
    "                    same_num += 1\n",
    "    return same_num / len(gr_list)     "
   ]
  },
  {
   "cell_type": "code",
   "execution_count": 20,
   "metadata": {},
   "outputs": [],
   "source": [
    "def read_gr(file_name):\n",
    "    file = open(file_name)\n",
    "    csvreader = csv.reader(file)\n",
    "    next(csvreader)\n",
    "    gr_list = []\n",
    "    for row in csvreader:\n",
    "            gr_list.append(int(row[2]))\n",
    "    return gr_list"
   ]
  },
  {
   "cell_type": "code",
   "execution_count": 21,
   "metadata": {},
   "outputs": [],
   "source": [
    "img = cv2.imread('soccer1.jpg')\n",
    "rows, cols, channels = img.shape\n",
    "pixel_values = img.reshape(rows * cols, channels)"
   ]
  },
  {
   "cell_type": "code",
   "execution_count": 22,
   "metadata": {},
   "outputs": [
    {
     "data": {
      "text/html": [
       "<style>#sk-container-id-2 {color: black;background-color: white;}#sk-container-id-2 pre{padding: 0;}#sk-container-id-2 div.sk-toggleable {background-color: white;}#sk-container-id-2 label.sk-toggleable__label {cursor: pointer;display: block;width: 100%;margin-bottom: 0;padding: 0.3em;box-sizing: border-box;text-align: center;}#sk-container-id-2 label.sk-toggleable__label-arrow:before {content: \"▸\";float: left;margin-right: 0.25em;color: #696969;}#sk-container-id-2 label.sk-toggleable__label-arrow:hover:before {color: black;}#sk-container-id-2 div.sk-estimator:hover label.sk-toggleable__label-arrow:before {color: black;}#sk-container-id-2 div.sk-toggleable__content {max-height: 0;max-width: 0;overflow: hidden;text-align: left;background-color: #f0f8ff;}#sk-container-id-2 div.sk-toggleable__content pre {margin: 0.2em;color: black;border-radius: 0.25em;background-color: #f0f8ff;}#sk-container-id-2 input.sk-toggleable__control:checked~div.sk-toggleable__content {max-height: 200px;max-width: 100%;overflow: auto;}#sk-container-id-2 input.sk-toggleable__control:checked~label.sk-toggleable__label-arrow:before {content: \"▾\";}#sk-container-id-2 div.sk-estimator input.sk-toggleable__control:checked~label.sk-toggleable__label {background-color: #d4ebff;}#sk-container-id-2 div.sk-label input.sk-toggleable__control:checked~label.sk-toggleable__label {background-color: #d4ebff;}#sk-container-id-2 input.sk-hidden--visually {border: 0;clip: rect(1px 1px 1px 1px);clip: rect(1px, 1px, 1px, 1px);height: 1px;margin: -1px;overflow: hidden;padding: 0;position: absolute;width: 1px;}#sk-container-id-2 div.sk-estimator {font-family: monospace;background-color: #f0f8ff;border: 1px dotted black;border-radius: 0.25em;box-sizing: border-box;margin-bottom: 0.5em;}#sk-container-id-2 div.sk-estimator:hover {background-color: #d4ebff;}#sk-container-id-2 div.sk-parallel-item::after {content: \"\";width: 100%;border-bottom: 1px solid gray;flex-grow: 1;}#sk-container-id-2 div.sk-label:hover label.sk-toggleable__label {background-color: #d4ebff;}#sk-container-id-2 div.sk-serial::before {content: \"\";position: absolute;border-left: 1px solid gray;box-sizing: border-box;top: 0;bottom: 0;left: 50%;z-index: 0;}#sk-container-id-2 div.sk-serial {display: flex;flex-direction: column;align-items: center;background-color: white;padding-right: 0.2em;padding-left: 0.2em;position: relative;}#sk-container-id-2 div.sk-item {position: relative;z-index: 1;}#sk-container-id-2 div.sk-parallel {display: flex;align-items: stretch;justify-content: center;background-color: white;position: relative;}#sk-container-id-2 div.sk-item::before, #sk-container-id-2 div.sk-parallel-item::before {content: \"\";position: absolute;border-left: 1px solid gray;box-sizing: border-box;top: 0;bottom: 0;left: 50%;z-index: -1;}#sk-container-id-2 div.sk-parallel-item {display: flex;flex-direction: column;z-index: 1;position: relative;background-color: white;}#sk-container-id-2 div.sk-parallel-item:first-child::after {align-self: flex-end;width: 50%;}#sk-container-id-2 div.sk-parallel-item:last-child::after {align-self: flex-start;width: 50%;}#sk-container-id-2 div.sk-parallel-item:only-child::after {width: 0;}#sk-container-id-2 div.sk-dashed-wrapped {border: 1px dashed gray;margin: 0 0.4em 0.5em 0.4em;box-sizing: border-box;padding-bottom: 0.4em;background-color: white;}#sk-container-id-2 div.sk-label label {font-family: monospace;font-weight: bold;display: inline-block;line-height: 1.2em;}#sk-container-id-2 div.sk-label-container {text-align: center;}#sk-container-id-2 div.sk-container {/* jupyter's `normalize.less` sets `[hidden] { display: none; }` but bootstrap.min.css set `[hidden] { display: none !important; }` so we also need the `!important` here to be able to override the default hidden behavior on the sphinx rendered scikit-learn.org. See: https://github.com/scikit-learn/scikit-learn/issues/21755 */display: inline-block !important;position: relative;}#sk-container-id-2 div.sk-text-repr-fallback {display: none;}</style><div id=\"sk-container-id-2\" class=\"sk-top-container\"><div class=\"sk-text-repr-fallback\"><pre>GaussianMixture(n_components=3)</pre><b>In a Jupyter environment, please rerun this cell to show the HTML representation or trust the notebook. <br />On GitHub, the HTML representation is unable to render, please try loading this page with nbviewer.org.</b></div><div class=\"sk-container\" hidden><div class=\"sk-item\"><div class=\"sk-estimator sk-toggleable\"><input class=\"sk-toggleable__control sk-hidden--visually\" id=\"sk-estimator-id-2\" type=\"checkbox\" checked><label for=\"sk-estimator-id-2\" class=\"sk-toggleable__label sk-toggleable__label-arrow\">GaussianMixture</label><div class=\"sk-toggleable__content\"><pre>GaussianMixture(n_components=3)</pre></div></div></div></div></div>"
      ],
      "text/plain": [
       "GaussianMixture(n_components=3)"
      ]
     },
     "execution_count": 22,
     "metadata": {},
     "output_type": "execute_result"
    }
   ],
   "source": [
    "n_components = 3  # 設定Gaussian混合模型的成分數\n",
    "M1 = GaussianMixture(n_components=n_components, covariance_type='full')\n",
    "M1.fit(pixel_values)"
   ]
  },
  {
   "cell_type": "code",
   "execution_count": 23,
   "metadata": {},
   "outputs": [
    {
     "name": "stdout",
     "output_type": "stream",
     "text": [
      "S1 best precision score:0.93 and its level is 1, threshold is 0.9.\n"
     ]
    }
   ],
   "source": [
    "gr_list = read_gr('soccer1_mask.csv')\n",
    "dir_name = 'S1'\n",
    "# 調整參數\n",
    "para_list = []\n",
    "for level in range(n_components):\n",
    "        for thres in range(1, 10, 1):\n",
    "                thres = thres / 10\n",
    "                # 進行分割\n",
    "                probs = M1.predict_proba(pixel_values)\n",
    "                segmented_img = segment_filter(dir_name, level, thres, probs, rows, cols)\n",
    "                # 算出 precision\n",
    "                precision = evaluation(segmented_img, gr_list)\n",
    "                \n",
    "                para_list.append([level, thres, precision])\n",
    "\n",
    "max_index = np.argmax(np.array(para_list)[:,2])\n",
    "score = para_list[max_index][2]\n",
    "para_level = para_list[max_index][0]\n",
    "para_threshold = para_list[max_index][1]\n",
    "print('S1 best precision score:{:.2f} and its level is {}, threshold is {}.'.format(score, para_level, para_threshold))"
   ]
  },
  {
   "attachments": {},
   "cell_type": "markdown",
   "metadata": {},
   "source": [
    "## Scenario 2\n",
    "以 M1 針對 soccer2.jpg 做測試"
   ]
  },
  {
   "cell_type": "code",
   "execution_count": 24,
   "metadata": {},
   "outputs": [],
   "source": [
    "img = cv2.imread('soccer2.jpg')\n",
    "rows, cols, channels = img.shape\n",
    "pixel_values = img.reshape(rows * cols, channels)"
   ]
  },
  {
   "cell_type": "code",
   "execution_count": 25,
   "metadata": {},
   "outputs": [
    {
     "name": "stdout",
     "output_type": "stream",
     "text": [
      "S2 precision:0.75 \n"
     ]
    }
   ],
   "source": [
    "gr_list = read_gr('soccer2_mask.csv')\n",
    "dir_name = 'S2'\n",
    "\n",
    "# 進行分割\n",
    "probs = M1.predict_proba(pixel_values)\n",
    "segmented_img = segment_filter(dir_name, para_level, para_threshold, probs, rows, cols)\n",
    "# 算出 precision\n",
    "precision = evaluation(segmented_img, gr_list)\n",
    "\n",
    "print('S2 precision:{:.2f} '.format(precision))"
   ]
  },
  {
   "attachments": {},
   "cell_type": "markdown",
   "metadata": {},
   "source": [
    "## Scenario 3\n",
    "以 soccer1.jpg 與 soccer2.jpg 中的場地 pixel 建構 GMM，稱此模型為 M2，並以 soccer1.jpg 以及 soccer2.jpg 做測試"
   ]
  },
  {
   "cell_type": "code",
   "execution_count": 26,
   "metadata": {},
   "outputs": [
    {
     "name": "stdout",
     "output_type": "stream",
     "text": [
      "S3 best precision score:0.93 and its level is 2, threshold is 0.1.\n"
     ]
    }
   ],
   "source": [
    "img1 = cv2.imread('soccer1.jpg')\n",
    "img2 = cv2.imread('soccer2.jpg')\n",
    "rows, cols, channels = img.shape\n",
    "pixel_values = img.reshape(rows * cols, channels)\n",
    "\n",
    "combined_img = np.concatenate((img1, img2), axis=0)\n",
    "\n",
    "pixel_values = combined_img.reshape((-1, 3))\n",
    "\n",
    "n_components = 3  # 設定為兩個 label：背景和前景\n",
    "M2 = GaussianMixture(n_components=n_components)\n",
    "M2.fit(pixel_values)\n",
    "\n",
    "\n",
    "gr_list1 = read_gr('soccer1_mask.csv')\n",
    "gr_list2 = read_gr('soccer2_mask.csv')\n",
    "gr_list = gr_list1 + gr_list2\n",
    "dir_name = 'S3'\n",
    "\n",
    "# 預測像素屬於哪個 label\n",
    "probs = M2.predict_proba(pixel_values)\n",
    "\n",
    "para_list = []\n",
    "for level in range(n_components):\n",
    "        for thres in range(1, 10, 1):\n",
    "                thres = thres / 10\n",
    "                # 進行分割\n",
    "                probs = M2.predict_proba(pixel_values)\n",
    "                segmented_img = probs[:, level] < thres\n",
    "                segmented_img = segmented_img.reshape(combined_img.shape[:2])\n",
    "                print(segmented_img.shape)\n",
    "                seg_img1 = segmented_img[:img1.shape[0], :].astype(np.uint8)\n",
    "                seg_img2 = segmented_img[img1.shape[0]:, :].astype(np.uint8)\n",
    "                print(seg_img1.shape)\n",
    "                break\n",
    "                segmented_255_img1 = seg_img1 * 255\n",
    "                segmented_255_img2 = seg_img2 * 255\n",
    "\n",
    "                file1_name = str(level) + '_' + str(thres)+ '_1.jpg'\n",
    "                file2_name = str(level) + '_' + str(thres)+ '_2.jpg'\n",
    "                write_file(dir_name, segmented_255_img1, file1_name)\n",
    "                write_file(dir_name, segmented_255_img2, file2_name)\n",
    "                # 算出 precision\n",
    "                precision = evaluation(segmented_img, gr_list)\n",
    "                \n",
    "                para_list.append([level, thres, precision])\n",
    "\n",
    "max_index = np.argmax(np.array(para_list)[:,2])\n",
    "score = para_list[max_index][2]\n",
    "para_level = para_list[max_index][0]\n",
    "para_threshold = para_list[max_index][1]\n",
    "print('S3 best precision score:{:.2f} and its level is {}, threshold is {}.'.format(score, para_level, para_threshold))\n",
    "\n",
    "\n",
    "# 分離兩張圖片的分割結果\n",
    "seg_img1 = segmented_img[:img1.shape[0], :]\n",
    "seg_img2 = segmented_img[img1.shape[0]:, :]"
   ]
  },
  {
   "cell_type": "code",
   "execution_count": null,
   "metadata": {},
   "outputs": [],
   "source": []
  }
 ],
 "metadata": {
  "kernelspec": {
   "display_name": "picture",
   "language": "python",
   "name": "python3"
  },
  "language_info": {
   "codemirror_mode": {
    "name": "ipython",
    "version": 3
   },
   "file_extension": ".py",
   "mimetype": "text/x-python",
   "name": "python",
   "nbconvert_exporter": "python",
   "pygments_lexer": "ipython3",
   "version": "3.11.0"
  },
  "orig_nbformat": 4
 },
 "nbformat": 4,
 "nbformat_minor": 2
}
