{
 "cells": [
  {
   "attachments": {},
   "cell_type": "markdown",
   "metadata": {},
   "source": [
    "# Scene Detection in Movies and TV shows\n",
    "implementation of the paper [Rasheed, et al. “Scene detection in Hollywood movies and tv shows” Proc. of IEEE Computer Society Conference on Computer Vision and Pattern Recognition, vol. 2, pp. 343-348, 2003](https://www.crcv.ucf.edu/papers/Scene-segCVPR2003.pdf)"
   ]
  },
  {
   "attachments": {},
   "cell_type": "markdown",
   "metadata": {},
   "source": [
    "## Read input data and Color shot detection"
   ]
  },
  {
   "cell_type": "code",
   "execution_count": 229,
   "metadata": {},
   "outputs": [],
   "source": [
    "# import required module\n",
    "from pathlib import Path\n",
    "import cv2\n",
    "import numpy as np\n",
    "FILE = 'news_out' #'ftfm_out'# 'climate_out'  \n",
    "GROUND_FILE = 'news_ground.txt'# 'ftfm_ground.txt' # 'climate_ground.txt'"
   ]
  },
  {
   "cell_type": "code",
   "execution_count": 51,
   "metadata": {},
   "outputs": [],
   "source": [
    "threshold = 0.9\n",
    "min_shot_duration = 10 # in frames"
   ]
  },
  {
   "cell_type": "code",
   "execution_count": 3,
   "metadata": {},
   "outputs": [
    {
     "name": "stdout",
     "output_type": "stream",
     "text": [
      "1780\n"
     ]
    }
   ],
   "source": [
    "# iterate over files in that directory\n",
    "files = [str(p) for p in Path(FILE).glob('*')]\n",
    "files.sort(key=lambda f: int(''.join(filter(str.isdigit, f))))\n",
    "hist_list = []\n",
    "for frame_path in files:\n",
    "    frame = cv2.imread(frame_path)\n",
    "    # Compute color histogram\n",
    "    frame = cv2.cvtColor(frame, cv2.COLOR_BGR2HSV)\n",
    "    hist = cv2.calcHist([frame], [0, 1, 2], None, [8, 4, 4], [0, 180, 0, 256, 0, 256])\n",
    "    hist = cv2.normalize(hist, hist, alpha=0, beta=1, norm_type=cv2.NORM_MINMAX).flatten()\n",
    "    hist_list.append(hist)\n",
    "    \n",
    "print(len(hist_list))"
   ]
  },
  {
   "cell_type": "code",
   "execution_count": 4,
   "metadata": {},
   "outputs": [],
   "source": [
    "# # test filter and sort function\n",
    "# files_test = [str(p) for p in Path(directory).glob('*')]\n",
    "# files_test.sort(key=lambda f: int(''.join(filter(str.isdigit, f))))\n",
    "\n",
    "# howard = list(filter(str.isdigit, \"002sfi4\"))\n",
    "# print(howard)"
   ]
  },
  {
   "cell_type": "code",
   "execution_count": 5,
   "metadata": {},
   "outputs": [],
   "source": [
    "# ## Read video\n",
    "# cap = cv2.VideoCapture('climate.mp4')\n",
    "# hist_list = []\n",
    "# ## make histogram of every frame\n",
    "# while(cap.isOpened()):\n",
    "#     ret, frame = cap.read()\n",
    "#     if ret == True:\n",
    "#         # Compute color histogram\n",
    "#         frame = cv2.cvtColor(frame, cv2.COLOR_BGR2HSV)\n",
    "#         hist = cv2.calcHist([frame], [0, 1, 2], None, [8, 4, 4], [0, 180, 0, 256, 0, 256])\n",
    "#         # print(\"new\\nhist:{}\\n\".format(hist.shape))\n",
    "#         hist = cv2.normalize(hist, hist, alpha=0, beta=1, norm_type=cv2.NORM_MINMAX).flatten()\n",
    "#         # print(hist)\n",
    "#         # print(\"end\")\n",
    "#         hist_list.append(hist)\n",
    "#     else:\n",
    "#         break\n",
    "    \n",
    "# print(len(hist_list))"
   ]
  },
  {
   "cell_type": "code",
   "execution_count": 6,
   "metadata": {},
   "outputs": [
    {
     "name": "stdout",
     "output_type": "stream",
     "text": [
      "[93, 157, 232, 314, 355, 460, 691, 697, 886, 900, 919, 1021, 1237, 1401, 1555]\n"
     ]
    }
   ],
   "source": [
    "shot_boundaries = []\n",
    "for i in range(1, len(hist_list)):\n",
    "    # Compute histogram difference\n",
    "    diff = cv2.compareHist(hist_list[i-1], hist_list[i], cv2.HISTCMP_CORREL)\n",
    "    if diff < threshold:\n",
    "        shot_boundaries.append(i+1)\n",
    "print(shot_boundaries)"
   ]
  },
  {
   "cell_type": "code",
   "execution_count": 7,
   "metadata": {},
   "outputs": [
    {
     "name": "stdout",
     "output_type": "stream",
     "text": [
      "[93, 157, 232, 314, 355, 460, 691, 697, 886, 900, 919, 1021, 1237, 1401, 1555]\n"
     ]
    }
   ],
   "source": [
    "shot_lengths = np.diff(shot_boundaries)\n",
    "short_shots = np.where(shot_lengths < min_shot_duration)[0]\n",
    "\n",
    "print(shot_boundaries)"
   ]
  },
  {
   "cell_type": "code",
   "execution_count": 8,
   "metadata": {},
   "outputs": [
    {
     "name": "stdout",
     "output_type": "stream",
     "text": [
      "[93, 157, 232, 314, 355, 460, 691, 886, 900, 919, 1021, 1237, 1401, 1555]\n"
     ]
    }
   ],
   "source": [
    "\n",
    "for i in reversed(short_shots):\n",
    "    if i == len(shot_boundaries)-1:\n",
    "        shot_boundaries = shot_boundaries[:i+1]\n",
    "    else:\n",
    "        shot_boundaries = shot_boundaries[:i+1] + shot_boundaries[i+2:]\n",
    "print(shot_boundaries)"
   ]
  },
  {
   "attachments": {},
   "cell_type": "markdown",
   "metadata": {},
   "source": [
    "## SIFT way"
   ]
  },
  {
   "attachments": {},
   "cell_type": "markdown",
   "metadata": {},
   "source": [
    "## test for 1 image"
   ]
  },
  {
   "cell_type": "code",
   "execution_count": 230,
   "metadata": {},
   "outputs": [
    {
     "name": "stdout",
     "output_type": "stream",
     "text": [
      "1380\n"
     ]
    }
   ],
   "source": [
    "# iterate over files in that directory\n",
    "files = [str(p) for p in Path(FILE).glob('*')]\n",
    "files.sort(key=lambda f: int(''.join(filter(str.isdigit, f))))\n",
    "sift_list = []\n",
    "for frame_path in files:\n",
    "    frame = cv2.imread(frame_path)\n",
    "    # Compute color histogram\n",
    "    frame = cv2.cvtColor(frame, cv2.COLOR_BGR2HSV)\n",
    "    \n",
    "    sift_list.append([])\n",
    "    \n",
    "print(len(sift_list))"
   ]
  },
  {
   "cell_type": "code",
   "execution_count": 231,
   "metadata": {},
   "outputs": [],
   "source": [
    "files = [str(p) for p in Path(FILE).glob('*')]"
   ]
  },
  {
   "cell_type": "code",
   "execution_count": 232,
   "metadata": {},
   "outputs": [
    {
     "data": {
      "text/plain": [
       "True"
      ]
     },
     "execution_count": 232,
     "metadata": {},
     "output_type": "execute_result"
    }
   ],
   "source": [
    "sift = cv2.SIFT_create(nfeatures=0, nOctaveLayers=3, contrastThreshold=0.04, edgeThreshold=10, sigma=1.6)\n",
    "frame = cv2.imread(files[148])\n",
    "frame_gray = cv2.cvtColor(frame, cv2.COLOR_BGR2GRAY)\n",
    "\n",
    "keypoints, descriptors = sift.detectAndCompute(frame_gray, None)\n",
    "\n",
    "# for keypoint,descriptor in zip(keypoints, descriptors):\n",
    "#     print(\"keypoint:\", keypoint.angle, keypoint.class_id, keypoint.octave, keypoint.pt, keypoint.response, keypoint.size)\n",
    "#     print(\"descriptor: \", descriptor.shape)\n",
    "\n",
    "img = cv2.drawKeypoints(image=frame_gray, outImage=frame, keypoints=keypoints,\n",
    "                        flags=cv2.DRAW_MATCHES_FLAGS_DRAW_RICH_KEYPOINTS,\n",
    "                        color=(51, 163, 236))\n",
    "\n",
    "cv2.imwrite(\"images/origin_gray.png\", frame_gray)\n",
    "cv2.imwrite(\"images/sift_example.png\", frame)\n",
    "\n",
    "# from matplotlib import pyplot as plt\n",
    "# plt.figure()\n",
    "# f, axarr = plt.subplots(2,1) \n",
    "# axarr[0].imshow(frame_gray)\n",
    "# axarr[1].imshow(frame)"
   ]
  },
  {
   "attachments": {},
   "cell_type": "markdown",
   "metadata": {},
   "source": [
    "## Test matching"
   ]
  },
  {
   "cell_type": "code",
   "execution_count": 285,
   "metadata": {},
   "outputs": [
    {
     "name": "stdout",
     "output_type": "stream",
     "text": [
      "1310\n",
      "1360\n",
      "1310\n",
      "0.28602941176470587\n"
     ]
    },
    {
     "data": {
      "text/plain": [
       "True"
      ]
     },
     "execution_count": 285,
     "metadata": {},
     "output_type": "execute_result"
    }
   ],
   "source": [
    "import cv2\n",
    "import numpy as np\n",
    "\n",
    "#自己绘制匹配连线\n",
    "def drawMatchesKnn_cv2(img1, kp1, img2, kp2, goodMatch):\n",
    "    h1, w1 = img1.shape[:2]\n",
    "    h2, w2 = img2.shape[:2]\n",
    "\n",
    "    vis = np.zeros((max(h1, h2), w1 + w2, 3), np.uint8)\n",
    "    vis[:h1, :w1] = img1\n",
    "    vis[:h2, w1:w1 + w2] = img2\n",
    "\n",
    "    p1 = [kpp.queryIdx for kpp in goodMatch]\n",
    "    p2 = [kpp.trainIdx for kpp in goodMatch]\n",
    "    post1 = np.int32([kp1[pp].pt for pp in p1])\n",
    "    post2 = np.int32([kp2[pp].pt for pp in p2]) + (w1, 0)\n",
    "    for (x1, y1), (x2, y2) in zip(post1, post2):\n",
    "        cv2.line(vis, (x1, y1), (x2, y2), (0, 0, 255))\n",
    "    cv2.imshow(\"match\", vis)\n",
    "\n",
    "files.sort(key=lambda f: int(''.join(filter(str.isdigit, f))))\n",
    "img1 = cv2.imread(files[72])\n",
    "img2 = cv2.imread(files[73])\n",
    "sift = cv2.SIFT_create()\n",
    "\n",
    "kp1, des1 = sift.detectAndCompute(img1, None)\n",
    "kp2, des2 = sift.detectAndCompute(img2, None)\n",
    "print(len(kp1))\n",
    "print(len(kp2))\n",
    "max_kp = max(len(kp1), len(kp2))\n",
    "# 采用暴力匹配\n",
    "matcher = cv2.BFMatcher()\n",
    "matches = matcher.knnMatch(des1, des2, k=2)  # k=2,表示寻找两个最近邻\n",
    "\n",
    "# 采用最近邻近似匹配\n",
    "# FLANN_INDEX_KDTREE = 0  # 建立FLANN匹配器的参数\n",
    "# indexParams = dict(algorithm=FLANN_INDEX_KDTREE, trees=5)  # 配置索引，密度树的数量为5\n",
    "# searchParams = dict(checks=50)  # 指定递归次数\n",
    "# matcher = cv2.FlannBasedMatcher(indexParams, searchParams)  # 建立FlannBasedMatcher对象\n",
    "# matches = matcher.knnMatch(des1, des2, k=2)  # k=2,表示寻找两个最近邻\n",
    "\n",
    "h1, w1 = img1.shape[:2]\n",
    "h2, w2 = img2.shape[:2]\n",
    "\n",
    "out_img1 = np.zeros((max(h1, h2), w1 + w2, 3), np.uint8)\n",
    "out_img1[:h1, :w1] = img1\n",
    "out_img1[:h2, w1:w1 + w2] = img2\n",
    "out_img1 = cv2.drawMatchesKnn(img1, kp1, img2, kp2, matches, out_img1)\n",
    "\n",
    "distance_group = [match[0].distance for match in matches]# [m.distance for m in matches]\n",
    "\n",
    "good_match = []\n",
    "for m, n in matches:\n",
    "    # if m.distance < 0.5 * n.distance: # 如果第一个邻近距离比第二个邻近距离的0.5倍小，则保留\n",
    "    #     good_match.append(m)\n",
    "    if m.distance < 200:    \n",
    "        good_match.append(m)\n",
    "\n",
    "out_img2 = np.zeros((max(h1, h2), w1 + w2, 3), np.uint8)\n",
    "out_img2[:h1, :w1] = img1\n",
    "out_img2[:h2, w1:w1 + w2] = img2\n",
    "# p1 = [kp1[kpp.queryIdx] for kpp in good_match]  # kp1中挑选处的关键点\n",
    "# p2 = [kp2[kpp.trainIdx] for kpp in good_match]  # kp2中挑选处的关键点\n",
    "out_img2 = cv2.drawMatches(img1, kp1, img2, kp2, good_match, out_img2)\n",
    "\n",
    "print(len(matches))\n",
    "print(len(good_match)/max_kp)\n",
    "\n",
    "\n",
    "cv2.imwrite(\"images/out_img1.png\", out_img1)\n",
    "cv2.imwrite(\"images/out_img2.png\", out_img2)\n"
   ]
  },
  {
   "cell_type": "code",
   "execution_count": 286,
   "metadata": {},
   "outputs": [
    {
     "data": {
      "image/png": "[encoded data removed]",
      "text/plain": [
       "<Figure size 1650x950 with 1 Axes>"
      ]
     },
     "metadata": {},
     "output_type": "display_data"
    }
   ],
   "source": [
    "import matplotlib.pyplot as plt\n",
    "plt.style.use('seaborn-v0_8')\n",
    "# plot pre vs recall\n",
    "distance_group.sort()\n",
    "fig, ax = plt.subplots()\n",
    "ax.plot(range(len(distance_group)),distance_group, linewidth=2.0)\n",
    "\n",
    "fig.subplots_adjust(left=0.1, bottom=0.1, right=0.9, top=0.9, wspace=0.2, hspace=0.2)\n",
    "fig.set_size_inches(16.5, 9.5)\n",
    "fig.savefig(\"images/distance.png\", dpi=100)\n",
    "# ax.set(xlim=(0, 8), xticks=np.arange(1, 8), ylim=(0, 8), yticks=np.arange(1, 8))"
   ]
  },
  {
   "attachments": {},
   "cell_type": "markdown",
   "metadata": {},
   "source": [
    "## Run through All match judging shot with ratio"
   ]
  },
  {
   "cell_type": "code",
   "execution_count": 343,
   "metadata": {},
   "outputs": [],
   "source": [
    "import cv2\n",
    "import numpy as np\n",
    "\n",
    "THRESHOLD_DISTANCE = 270\n",
    "THRESHOLD_RATE = 0.6"
   ]
  },
  {
   "cell_type": "code",
   "execution_count": 288,
   "metadata": {},
   "outputs": [
    {
     "name": "stdout",
     "output_type": "stream",
     "text": [
      "1380\n"
     ]
    }
   ],
   "source": [
    "# iterate over files in that directory\n",
    "files = [str(p) for p in Path(FILE).glob('*')]\n",
    "files.sort(key=lambda f: int(''.join(filter(str.isdigit, f))))\n",
    "sift = cv2.SIFT_create()\n",
    "\n",
    "kp_list = []\n",
    "des_list = []\n",
    "\n",
    "for frame_path in files:\n",
    "    frame = cv2.imread(frame_path)\n",
    "    # Compute color histogram\n",
    "    frame = cv2.cvtColor(frame, cv2.COLOR_BGR2GRAY)\n",
    "    kp, des = sift.detectAndCompute(frame, None)\n",
    "    kp_list.append(kp)\n",
    "    des_list.append(des)\n",
    "    \n",
    "print(len(kp_list))"
   ]
  },
  {
   "cell_type": "code",
   "execution_count": 344,
   "metadata": {},
   "outputs": [
    {
     "name": "stdout",
     "output_type": "stream",
     "text": [
      "[73, 75, 76, 90, 91, 105, 106, 120, 121, 135, 136, 150, 151, 165, 166, 180, 181, 195, 196, 210, 211, 225, 226, 235, 301, 370, 452, 861, 1281, 1290, 1291, 1305, 1306, 1320, 1321, 1335, 1336, 1350, 1351, 1365, 1366]\n"
     ]
    }
   ],
   "source": [
    "matcher = cv2.BFMatcher()\n",
    "\n",
    "shot_boundaries = []\n",
    "for i in range(1, len(des_list)):\n",
    "    # Compute matches\n",
    "    max_kp = max(len(kp_list[i-1]), len(kp_list[i]))\n",
    "    min_kp = min(len(kp_list[i-1]), len(kp_list[i]))\n",
    "    if max_kp<10 or min_kp < 10:\n",
    "        shot_boundaries.append(i+1)\n",
    "        continue\n",
    "    matches = matcher.knnMatch(des_list[i-1], des_list[i], k=1)  # k=1,表示寻找两个最近邻\n",
    "    good_match = []\n",
    "    for m in matches:\n",
    "        if m[0].distance < THRESHOLD_DISTANCE:\n",
    "            good_match.append(m)\n",
    "    if (len(good_match)/max_kp) < THRESHOLD_RATE:\n",
    "        shot_boundaries.append(i)\n",
    "\n",
    "print(shot_boundaries)"
   ]
  },
  {
   "cell_type": "code",
   "execution_count": 345,
   "metadata": {},
   "outputs": [
    {
     "name": "stdout",
     "output_type": "stream",
     "text": [
      "[73, 90, 105, 120, 135, 150, 165, 180, 195, 210, 225, 301, 370, 452, 861, 1281, 1305, 1320, 1335, 1350, 1365]\n"
     ]
    }
   ],
   "source": [
    "shot_lengths = np.diff(shot_boundaries)\n",
    "short_shots = np.where(shot_lengths < min_shot_duration)[0]\n",
    "\n",
    "for i in reversed(short_shots):\n",
    "    if i == len(shot_boundaries)-1:\n",
    "        shot_boundaries = shot_boundaries[:i+1]\n",
    "    else:\n",
    "        shot_boundaries = shot_boundaries[:i+1] + shot_boundaries[i+2:]\n",
    "print(shot_boundaries)"
   ]
  },
  {
   "attachments": {},
   "cell_type": "markdown",
   "metadata": {},
   "source": [
    "## Read ground truth file"
   ]
  },
  {
   "cell_type": "code",
   "execution_count": 346,
   "metadata": {},
   "outputs": [],
   "source": [
    "ground_file = open(GROUND_FILE, \"r\")\n",
    "ground_data = ground_file.read()\n",
    "ground_list = ground_data.split(\"\\n\")\n",
    "ground_file.close()\n"
   ]
  },
  {
   "cell_type": "code",
   "execution_count": 347,
   "metadata": {},
   "outputs": [],
   "source": [
    "ground_list = ground_list[4:]"
   ]
  },
  {
   "cell_type": "code",
   "execution_count": 348,
   "metadata": {},
   "outputs": [],
   "source": [
    "for i in range(len(ground_list)):\n",
    "    if '~' in ground_list[i]:\n",
    "        print(ground_list[i])\n",
    "        first, second = ground_list[i].split(\"~\")\n",
    "        ground_list[i] = (first, second)"
   ]
  },
  {
   "cell_type": "code",
   "execution_count": 349,
   "metadata": {},
   "outputs": [
    {
     "name": "stdout",
     "output_type": "stream",
     "text": [
      "['73', '235', '301', '370', '452', '861', '1281']\n"
     ]
    }
   ],
   "source": [
    "print(ground_list)"
   ]
  },
  {
   "cell_type": "code",
   "execution_count": 350,
   "metadata": {},
   "outputs": [],
   "source": [
    "true_positive = 0\n",
    "false_positive = 0\n",
    "false_negative = 0\n",
    "true_negative = 0\n",
    "\n",
    "for shot in shot_boundaries:\n",
    "    hit = 0\n",
    "    for number in ground_list:\n",
    "        if type(number) is tuple:\n",
    "            (first ,second ) = number\n",
    "            if int(first) <= shot <= int(second):\n",
    "                true_positive += 1\n",
    "                hit = 1\n",
    "                break\n",
    "        else:\n",
    "            if shot == int(number):\n",
    "                true_positive += 1\n",
    "                hit = 1\n",
    "                break\n",
    "            \n",
    "    if hit == 0:\n",
    "        false_positive += 1"
   ]
  },
  {
   "cell_type": "code",
   "execution_count": 351,
   "metadata": {},
   "outputs": [
    {
     "name": "stdout",
     "output_type": "stream",
     "text": [
      "6 15\n"
     ]
    }
   ],
   "source": [
    "print(true_positive, false_positive)"
   ]
  },
  {
   "cell_type": "code",
   "execution_count": 352,
   "metadata": {},
   "outputs": [],
   "source": [
    "for number in ground_list:\n",
    "    hit = 0\n",
    "    for shot in shot_boundaries:\n",
    "        if type(number) is tuple:\n",
    "            (first ,second) = number\n",
    "            if int(first) <= shot <= int(second):\n",
    "                hit = 1\n",
    "                break\n",
    "        else:\n",
    "            if shot == int(number):\n",
    "                hit = 1\n",
    "                break\n",
    "    if hit == 0:\n",
    "        false_negative += 1"
   ]
  },
  {
   "cell_type": "code",
   "execution_count": 353,
   "metadata": {},
   "outputs": [],
   "source": [
    "true_negative = len(files) - len(shot_boundaries) - false_negative"
   ]
  },
  {
   "cell_type": "code",
   "execution_count": 354,
   "metadata": {},
   "outputs": [
    {
     "name": "stdout",
     "output_type": "stream",
     "text": [
      "1 1358\n"
     ]
    }
   ],
   "source": [
    "print(false_negative, true_negative)"
   ]
  },
  {
   "cell_type": "code",
   "execution_count": 355,
   "metadata": {},
   "outputs": [
    {
     "name": "stdout",
     "output_type": "stream",
     "text": [
      "0.2857142857142857 0.8571428571428571\n"
     ]
    }
   ],
   "source": [
    "if (true_positive + false_positive)==0:\n",
    "    precision = 0\n",
    "else:\n",
    "    precision = true_positive/(true_positive + false_positive)\n",
    "if (true_positive + false_negative)==0:\n",
    "    recall = 0\n",
    "else:\n",
    "    recall = true_positive/(true_positive + false_negative)\n",
    "print(precision, recall)"
   ]
  },
  {
   "cell_type": "code",
   "execution_count": null,
   "metadata": {},
   "outputs": [],
   "source": []
  }
 ],
 "metadata": {
  "kernelspec": {
   "display_name": "picture",
   "language": "python",
   "name": "python3"
  },
  "language_info": {
   "codemirror_mode": {
    "name": "ipython",
    "version": 3
   },
   "file_extension": ".py",
   "mimetype": "text/x-python",
   "name": "python",
   "nbconvert_exporter": "python",
   "pygments_lexer": "ipython3",
   "version": "3.11.0"
  },
  "orig_nbformat": 4
 },
 "nbformat": 4,
 "nbformat_minor": 2
}
